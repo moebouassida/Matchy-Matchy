{
 "cells": [
  {
   "cell_type": "code",
   "execution_count": 1,
   "id": "4c09c39f",
   "metadata": {},
   "outputs": [],
   "source": [
    "import os \n",
    "\n",
    "import csv\n",
    "\n",
    "from PIL import Image\n",
    "\n",
    "import io\n",
    "\n",
    "import requests\n",
    "\n",
    "from selenium import webdriver\n",
    "from selenium.webdriver.common.by import By\n",
    "\n",
    "import time "
   ]
  },
  {
   "cell_type": "code",
   "execution_count": 2,
   "id": "035df736",
   "metadata": {},
   "outputs": [],
   "source": [
    "path = \"C:\\Program Files (x86)\\Microsoft\\Edge\\msedgedriver.exe\"\n",
    "\n",
    "driver = webdriver.Edge(path)\n",
    "driver.implicitly_wait(5)\n",
    "\n",
    "driver.get(\"https://www.lefties.com/tn/woman/clothing/t-shirts-c1030267505.html\")\n",
    "time.sleep(20)"
   ]
  },
  {
   "cell_type": "code",
   "execution_count": 3,
   "id": "f6be8a74",
   "metadata": {},
   "outputs": [
    {
     "name": "stdout",
     "output_type": "stream",
     "text": [
      "65\n"
     ]
    }
   ],
   "source": [
    "wrapper = driver.find_element(By.CSS_SELECTOR, '#grid-wrapper' )\n",
    "container = wrapper.find_element(By.CSS_SELECTOR, '#grid-container')\n",
    "product_container = container.find_elements(By.CSS_SELECTOR, '.grid-product-standard.grid-product4')\n",
    "\n",
    "products= [[\"Name\",\"Price\",\"ImgUrl\",\"ProductUrl\"]]\n",
    "\n",
    "for prod in product_container:\n",
    "    product = []\n",
    "    \n",
    "    name = prod.find_element(By.CSS_SELECTOR, '.name').text\n",
    "    product.append(name)\n",
    "    \n",
    "    price = prod.find_element(By.CSS_SELECTOR, '.price').text\n",
    "    product.append(price)\n",
    "    \n",
    "    img = prod.find_element(By.CSS_SELECTOR, '.grid-product-image').get_attribute('src')\n",
    "    product.append(img)\n",
    "    \n",
    "    prod_url = prod.get_attribute('href')\n",
    "    product.append(prod_url)\n",
    "    \n",
    "    products.append(product)\n",
    "\n",
    "print(len(products))    "
   ]
  },
  {
   "cell_type": "code",
   "execution_count": 4,
   "id": "8f811058",
   "metadata": {},
   "outputs": [
    {
     "name": "stdout",
     "output_type": "stream",
     "text": [
      "img url not found\n",
      "img url not found\n",
      "img url not found\n"
     ]
    }
   ],
   "source": [
    "headers = {\n",
    "    'Accept-Language': 'en-US,en;q=0.8',\n",
    "    'User-Agent': 'Mozilla/5.0 (Windows NT 10.0; Win64; x64) AppleWebKit/537.36 (KHTML, like Gecko) Chrome/111.0.0.0 Safari/537.36 Edg/111.0.1661.62',\n",
    "    'Accept': 'text/html,application/xhtml+xml,application/xml;q=0.9,image/webp,*/*;q=0.8',\n",
    "    'Referer': 'http://www.wikipedia.org/',\n",
    "    'Connection': 'keep-alive',\n",
    "}\n",
    "\n",
    "\n",
    "path = \"lefties\"\n",
    "\n",
    "prod = 'woman_t-shirts'\n",
    "\n",
    "if not os.path.exists(path):\n",
    "    os.mkdir(path)\n",
    "os.chdir(path)\n",
    "\n",
    "if not os.path.exists(prod):\n",
    "    os.mkdir(prod)    \n",
    "os.chdir(prod)\n",
    "\n",
    "with open('t-shirts.csv', 'w', newline='') as f:\n",
    "    writer = csv.writer(f)\n",
    "    writer.writerows(products)\n",
    "    \n",
    "if not os.path.exists('images'):\n",
    "    os.mkdir('images')\n",
    "os.chdir('images')    \n",
    "\n",
    "for i in range(1, len(products)):\n",
    "    \n",
    "    if type(products[i][2]) is str:\n",
    "        try:\n",
    "            img = requests.get(url = products[i][2], headers=headers).content\n",
    "            img_byte = io.BytesIO(img)\n",
    "            img = Image.open(img_byte)\n",
    "            filename = 't-shirts{}.jpg'.format(i)\n",
    "\n",
    "            with open(filename, 'wb') as f:\n",
    "                img.save(f)\n",
    "        except Exception as e:\n",
    "            print(e)\n",
    "    else:\n",
    "        print(\"img url not found\")"
   ]
  },
  {
   "cell_type": "code",
   "execution_count": null,
   "id": "27d28a33",
   "metadata": {},
   "outputs": [],
   "source": []
  }
 ],
 "metadata": {
  "kernelspec": {
   "display_name": "Python 3 (ipykernel)",
   "language": "python",
   "name": "python3"
  },
  "language_info": {
   "codemirror_mode": {
    "name": "ipython",
    "version": 3
   },
   "file_extension": ".py",
   "mimetype": "text/x-python",
   "name": "python",
   "nbconvert_exporter": "python",
   "pygments_lexer": "ipython3",
   "version": "3.9.16"
  }
 },
 "nbformat": 4,
 "nbformat_minor": 5
}
